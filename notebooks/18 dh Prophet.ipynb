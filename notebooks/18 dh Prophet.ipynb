{
 "cells": [
  {
   "cell_type": "markdown",
   "id": "f08414be-1421-4d8d-81f8-ac78dfddca47",
   "metadata": {},
   "source": [
    "# Prophet\n",
    "\n",
    "Apziva project #5<br>\n",
    "2023 09 04\n",
    "\n",
    "__Summary:__\n",
    "* This notebook showcases the use of Prophet to forecast a time series.\n",
    "* There are a few installation problems. Main point: Prophet is now installed as `pip install prophet` rather than `pip install fbprophet` (or even `pip install metaprophet`).\n",
    "* Power of forecasting:\n",
    "    * Prophet easily forecasts seasonal car sales (demo data from the 1960's).\n",
    "    * Prophet has, however, a hard time to forecast Microsoft stock market prices."
   ]
  },
  {
   "cell_type": "markdown",
   "id": "5f934034-55b2-47a1-a874-f20ef72a6d2b",
   "metadata": {},
   "source": [
    "## TOC: <a class=\"anchor\" id=\"TOC\"></a>\n",
    "* [Utilities](#Utilities)\n",
    "* [Installation](#Installation)\n",
    "* [Introduction](#Introduction)\n",
    "* [Car dataset](#CarDataset)\n",
    "    * [Plot the data](#CarDatasetPlotData)\n",
    "    * [Fit Prophet model](#CarDatasetFitProphetModel)  \n",
    "    * [In-sample forecast](#CarDatasetInSampleForecast)    \n",
    "    * [Out-of-sample forecast](#CarDatasetOutOfSampleForecast)   \n",
    "    * [Metric](#CarDatasetMetric)   \n",
    "* [Microsoft dataset](#MicrosoftDataset)    \n",
    "    * [Parametrized Prophet function](#CarDatasetParametrizedProphetFunction)       "
   ]
  },
  {
   "cell_type": "markdown",
   "id": "3d6d5cb2-4e49-45e3-921f-e3b42953faed",
   "metadata": {},
   "source": [
    "## Utilities <a class=\"anchor\" id=\"Utilities\"></a>\n",
    "[TOC](#TOC)"
   ]
  },
  {
   "cell_type": "code",
   "execution_count": 1,
   "id": "f3f2ad6e-a9af-445c-8dc1-61dc3d7fee62",
   "metadata": {},
   "outputs": [],
   "source": [
    "# own libraries\n",
    "import Utilities as u\n",
    "import MachineLearning as ml\n",
    "\n",
    "# activate changes in libraries\n",
    "import importlib\n",
    "importlib.reload(u)\n",
    "importlib.reload(ml)\n",
    "\n",
    "# aliases\n",
    "from Utilities import TypeChecker as t\n",
    "from Utilities import PrintAlias as p"
   ]
  },
  {
   "cell_type": "markdown",
   "id": "6a8ec220-aa93-46fa-86d5-0a2377ff4757",
   "metadata": {},
   "source": [
    "## Installation <a class=\"anchor\" id=\"Installation\"></a>\n",
    "[TOC](#TOC)"
   ]
  },
  {
   "cell_type": "code",
   "execution_count": 2,
   "id": "26b4ecff-ae8e-4f7d-b343-0668fedf1cea",
   "metadata": {},
   "outputs": [
    {
     "name": "stdout",
     "output_type": "stream",
     "text": [
      "3.9.10 | packaged by conda-forge | (main, Jan 30 2022, 18:02:33) [MSC v.1929 64 bit (AMD64)]\n"
     ]
    }
   ],
   "source": [
    "import sys\n",
    "print(sys.version)"
   ]
  },
  {
   "cell_type": "markdown",
   "id": "7ce045d0-4b2e-40ee-84de-f84da84fda38",
   "metadata": {},
   "source": [
    "__Trials__\n",
    "1. `libpython`  `pystan` `fbprophet`\n",
    "    * __Commands__\n",
    "        * conda install libpython m2w64-toolchain -c msys2\n",
    "        * pip install pystan\n",
    "        * pip install fbprophet\n",
    "    * __Result__   \n",
    "        * Hundreds of errors on all levels\n",
    "        * cannot import fbprophet\n",
    "1. `prophet` rather than `fbprophet`\n",
    "    * __Explanation__\n",
    "        * Official page: _As of v1.0, the package name on PyPI is “prophet”; prior to v1.0 it was “fbprophet”._ (https://facebook.github.io/prophet/docs/installation.html#python)\n",
    "    * __Command__\n",
    "        * `pip install prophet`\n",
    "    * __Result__\n",
    "        * Success."
   ]
  },
  {
   "cell_type": "code",
   "execution_count": 3,
   "id": "26ce9727-3bf3-4d84-b2f8-55e7d7623324",
   "metadata": {},
   "outputs": [
    {
     "name": "stdout",
     "output_type": "stream",
     "text": [
      "Prophet 1.1.4\n"
     ]
    }
   ],
   "source": [
    "import prophet\n",
    "print('Prophet %s' % prophet.__version__)"
   ]
  },
  {
   "cell_type": "markdown",
   "id": "f9c5d979-0706-4f71-8c6f-38cc4ea1d45b",
   "metadata": {},
   "source": [
    "## Introduction <a class=\"anchor\" id=\"Introduction\"></a>\n",
    "[TOC](#TOC)"
   ]
  },
  {
   "cell_type": "markdown",
   "id": "1cfaf01a-6f13-4c40-8888-7b7155c03e80",
   "metadata": {},
   "source": [
    "__Distinction on time series topics__\n",
    "* __General__: Time series analysis and time series forecasting are two __closely related but distinct__ concepts in the field of statistics and data analysis, particularly when dealing with time-ordered data. Here's the key difference between the two:\n",
    "* __Time Series Analysis__: \n",
    "    * Time series analysis refers to the process of examining historical time-ordered data to __understand its underlying patterns, structure, and characteristics__.\n",
    "    * It involves descriptive and exploratory techniques to gain insights into the data, identify trends, seasonal patterns, cyclic behavior, and anomalies.\n",
    "    * Time series analysis methods include data visualization, decomposition, autocorrelation analysis, stationarity testing, and spectral analysis, among others.\n",
    "    * The primary goal of time series analysis is to understand the historical behavior of the data and make __inferences about its properties without necessarily making future predictions__.\n",
    "* __Time Series Forecasting__: Time series forecasting, on the other hand, is a specific application of time series analysis that focuses on __making predictions__ or estimates about future values of a time series based on its historical data.\n",
    "    * It uses statistical models, machine learning algorithms, or mathematical techniques to __extrapolate the patterns__ observed in historical data to make forecasts for future time points.\n",
    "    * Time series forecasting is forward-looking and aims to provide predictions or forecasts that can be used for planning, decision-making, and resource allocation.\n",
    "    * Common time series forecasting methods include autoregressive integrated moving average (ARIMA) models, exponential smoothing, machine learning techniques like linear regression, neural networks, and more."
   ]
  },
  {
   "cell_type": "markdown",
   "id": "ff9ca341-2ffb-48ca-bf85-a4a0ddd1bc53",
   "metadata": {},
   "source": [
    "__Prophet:__\n",
    "* Prophet is used for __time series forecasting__.\n",
    "* Number of variables: __univariate__, i.e. 1 variable only.\n",
    "* It was published by __Facebook/Meta in 2017__, open-source.\n",
    "* Authors: Sean J. Taylor, Ben Letham.\n",
    "* Own claim:\n",
    "    * Designed to be __easy__ and completely __automatic__, e.g. point it at a time series and get a forecast."
   ]
  },
  {
   "cell_type": "markdown",
   "id": "0d1163f7-a52b-460b-a7f7-79c12a1e182f",
   "metadata": {},
   "source": [
    "## Car dataset <a class=\"anchor\" id=\"CarDataset\"></a>\n",
    "[TOC](#TOC)"
   ]
  },
  {
   "cell_type": "markdown",
   "id": "53bb6fda-8c5a-4a14-ae91-fea622934ee8",
   "metadata": {},
   "source": [
    "### Plot the data <a class=\"anchor\" id=\"CarDatasetPlotData\"></a>\n",
    "[TOC](#TOC)"
   ]
  },
  {
   "cell_type": "code",
   "execution_count": 4,
   "id": "c9865b01-b829-4f1f-866b-83df23de2b8c",
   "metadata": {},
   "outputs": [
    {
     "name": "stdout",
     "output_type": "stream",
     "text": [
      "(108, 2)\n"
     ]
    },
    {
     "data": {
      "text/html": [
       "<div>\n",
       "<style scoped>\n",
       "    .dataframe tbody tr th:only-of-type {\n",
       "        vertical-align: middle;\n",
       "    }\n",
       "\n",
       "    .dataframe tbody tr th {\n",
       "        vertical-align: top;\n",
       "    }\n",
       "\n",
       "    .dataframe thead th {\n",
       "        text-align: right;\n",
       "    }\n",
       "</style>\n",
       "<table border=\"1\" class=\"dataframe\">\n",
       "  <thead>\n",
       "    <tr style=\"text-align: right;\">\n",
       "      <th></th>\n",
       "      <th>Month</th>\n",
       "      <th>Sales</th>\n",
       "    </tr>\n",
       "  </thead>\n",
       "  <tbody>\n",
       "    <tr>\n",
       "      <th>0</th>\n",
       "      <td>1960-01</td>\n",
       "      <td>6550</td>\n",
       "    </tr>\n",
       "    <tr>\n",
       "      <th>1</th>\n",
       "      <td>1960-02</td>\n",
       "      <td>8728</td>\n",
       "    </tr>\n",
       "    <tr>\n",
       "      <th>2</th>\n",
       "      <td>1960-03</td>\n",
       "      <td>12026</td>\n",
       "    </tr>\n",
       "    <tr>\n",
       "      <th>3</th>\n",
       "      <td>1960-04</td>\n",
       "      <td>14395</td>\n",
       "    </tr>\n",
       "    <tr>\n",
       "      <th>4</th>\n",
       "      <td>1960-05</td>\n",
       "      <td>14587</td>\n",
       "    </tr>\n",
       "  </tbody>\n",
       "</table>\n",
       "</div>"
      ],
      "text/plain": [
       "     Month  Sales\n",
       "0  1960-01   6550\n",
       "1  1960-02   8728\n",
       "2  1960-03  12026\n",
       "3  1960-04  14395\n",
       "4  1960-05  14587"
      ]
     },
     "execution_count": 4,
     "metadata": {},
     "output_type": "execute_result"
    }
   ],
   "source": [
    "# load the car sales dataset\n",
    "from pandas import read_csv\n",
    "# load data\n",
    "path = 'https://raw.githubusercontent.com/jbrownlee/Datasets/master/monthly-car-sales.csv'\n",
    "df = read_csv(path, header=0)\n",
    "# summarize shape\n",
    "print(df.shape)\n",
    "# show first few rows\n",
    "df.head()"
   ]
  },
  {
   "cell_type": "code",
   "execution_count": 5,
   "id": "44ebdde5-2561-43c0-af22-c72f6b3c7bd9",
   "metadata": {},
   "outputs": [
    {
     "data": {
      "image/png": "[encoded data removed]",
      "text/plain": [
       "<Figure size 432x288 with 1 Axes>"
      ]
     },
     "metadata": {
      "needs_background": "light"
     },
     "output_type": "display_data"
    }
   ],
   "source": [
    "# load and plot the car sales dataset\n",
    "from pandas import read_csv\n",
    "from matplotlib import pyplot\n",
    "# load data\n",
    "path = 'https://raw.githubusercontent.com/jbrownlee/Datasets/master/monthly-car-sales.csv'\n",
    "df = read_csv(path, header=0)\n",
    "# plot the time series\n",
    "df.plot()\n",
    "pyplot.show()"
   ]
  },
  {
   "cell_type": "markdown",
   "id": "59f16812-561c-46c1-afaf-58a683241e8e",
   "metadata": {},
   "source": [
    "### Fit Prophet model <a class=\"anchor\" id=\"CarDatasetFitProphetModel\"></a>\n",
    "[TOC](#TOC)"
   ]
  },
  {
   "cell_type": "code",
   "execution_count": 6,
   "id": "0b04d43e-e880-4bb6-bcde-228f32bd89e5",
   "metadata": {},
   "outputs": [
    {
     "name": "stdout",
     "output_type": "stream",
     "text": [
      "Renaming the columns is a must:\n"
     ]
    },
    {
     "data": {
      "text/html": [
       "<div>\n",
       "<style scoped>\n",
       "    .dataframe tbody tr th:only-of-type {\n",
       "        vertical-align: middle;\n",
       "    }\n",
       "\n",
       "    .dataframe tbody tr th {\n",
       "        vertical-align: top;\n",
       "    }\n",
       "\n",
       "    .dataframe thead th {\n",
       "        text-align: right;\n",
       "    }\n",
       "</style>\n",
       "<table border=\"1\" class=\"dataframe\">\n",
       "  <thead>\n",
       "    <tr style=\"text-align: right;\">\n",
       "      <th></th>\n",
       "      <th>ds</th>\n",
       "      <th>y</th>\n",
       "    </tr>\n",
       "  </thead>\n",
       "  <tbody>\n",
       "    <tr>\n",
       "      <th>0</th>\n",
       "      <td>1960-01-01</td>\n",
       "      <td>6550</td>\n",
       "    </tr>\n",
       "    <tr>\n",
       "      <th>1</th>\n",
       "      <td>1960-02-01</td>\n",
       "      <td>8728</td>\n",
       "    </tr>\n",
       "    <tr>\n",
       "      <th>2</th>\n",
       "      <td>1960-03-01</td>\n",
       "      <td>12026</td>\n",
       "    </tr>\n",
       "    <tr>\n",
       "      <th>3</th>\n",
       "      <td>1960-04-01</td>\n",
       "      <td>14395</td>\n",
       "    </tr>\n",
       "    <tr>\n",
       "      <th>4</th>\n",
       "      <td>1960-05-01</td>\n",
       "      <td>14587</td>\n",
       "    </tr>\n",
       "  </tbody>\n",
       "</table>\n",
       "</div>"
      ],
      "text/plain": [
       "          ds      y\n",
       "0 1960-01-01   6550\n",
       "1 1960-02-01   8728\n",
       "2 1960-03-01  12026\n",
       "3 1960-04-01  14395\n",
       "4 1960-05-01  14587"
      ]
     },
     "metadata": {},
     "output_type": "display_data"
    },
    {
     "name": "stderr",
     "output_type": "stream",
     "text": [
      "15:52:06 - cmdstanpy - INFO - Chain [1] start processing\n",
      "15:52:06 - cmdstanpy - INFO - Chain [1] done processing\n"
     ]
    },
    {
     "data": {
      "text/plain": [
       "<prophet.forecaster.Prophet at 0x19667a1ffd0>"
      ]
     },
     "execution_count": 6,
     "metadata": {},
     "output_type": "execute_result"
    }
   ],
   "source": [
    "from pandas import to_datetime\n",
    "from prophet import Prophet\n",
    "\n",
    "# rename columns\n",
    "# - this is a must!\n",
    "df.columns = ['ds', 'y']\n",
    "df['ds']= to_datetime(df['ds'])\n",
    "p(\"Renaming the columns is a must:\")\n",
    "u.DisplayDataFrame(df.head())\n",
    "\n",
    "# fit the model\n",
    "model = Prophet()\n",
    "model.fit(df)"
   ]
  },
  {
   "cell_type": "markdown",
   "id": "2fc61d23-1ae1-455d-870f-de6ab3cbd441",
   "metadata": {},
   "source": [
    "### In-sample Forecast <a class=\"anchor\" id=\"CarDatasetInSampleForecast\"></a>\n",
    "[TOC](#TOC)"
   ]
  },
  {
   "cell_type": "code",
   "execution_count": 7,
   "id": "24fbd985-a929-46b6-bf97-4be30c4b1655",
   "metadata": {},
   "outputs": [
    {
     "data": {
      "text/html": [
       "<div>\n",
       "<style scoped>\n",
       "    .dataframe tbody tr th:only-of-type {\n",
       "        vertical-align: middle;\n",
       "    }\n",
       "\n",
       "    .dataframe tbody tr th {\n",
       "        vertical-align: top;\n",
       "    }\n",
       "\n",
       "    .dataframe thead th {\n",
       "        text-align: right;\n",
       "    }\n",
       "</style>\n",
       "<table border=\"1\" class=\"dataframe\">\n",
       "  <thead>\n",
       "    <tr style=\"text-align: right;\">\n",
       "      <th></th>\n",
       "      <th>ds</th>\n",
       "    </tr>\n",
       "  </thead>\n",
       "  <tbody>\n",
       "    <tr>\n",
       "      <th>0</th>\n",
       "      <td>1968-01-01</td>\n",
       "    </tr>\n",
       "    <tr>\n",
       "      <th>1</th>\n",
       "      <td>1968-02-01</td>\n",
       "    </tr>\n",
       "    <tr>\n",
       "      <th>2</th>\n",
       "      <td>1968-03-01</td>\n",
       "    </tr>\n",
       "    <tr>\n",
       "      <th>3</th>\n",
       "      <td>1968-04-01</td>\n",
       "    </tr>\n",
       "    <tr>\n",
       "      <th>4</th>\n",
       "      <td>1968-05-01</td>\n",
       "    </tr>\n",
       "    <tr>\n",
       "      <th>5</th>\n",
       "      <td>1968-06-01</td>\n",
       "    </tr>\n",
       "    <tr>\n",
       "      <th>6</th>\n",
       "      <td>1968-07-01</td>\n",
       "    </tr>\n",
       "    <tr>\n",
       "      <th>7</th>\n",
       "      <td>1968-08-01</td>\n",
       "    </tr>\n",
       "    <tr>\n",
       "      <th>8</th>\n",
       "      <td>1968-09-01</td>\n",
       "    </tr>\n",
       "    <tr>\n",
       "      <th>9</th>\n",
       "      <td>1968-10-01</td>\n",
       "    </tr>\n",
       "    <tr>\n",
       "      <th>10</th>\n",
       "      <td>1968-11-01</td>\n",
       "    </tr>\n",
       "    <tr>\n",
       "      <th>11</th>\n",
       "      <td>1968-12-01</td>\n",
       "    </tr>\n",
       "  </tbody>\n",
       "</table>\n",
       "</div>"
      ],
      "text/plain": [
       "           ds\n",
       "0  1968-01-01\n",
       "1  1968-02-01\n",
       "2  1968-03-01\n",
       "3  1968-04-01\n",
       "4  1968-05-01\n",
       "5  1968-06-01\n",
       "6  1968-07-01\n",
       "7  1968-08-01\n",
       "8  1968-09-01\n",
       "9  1968-10-01\n",
       "10 1968-11-01\n",
       "11 1968-12-01"
      ]
     },
     "execution_count": 7,
     "metadata": {},
     "output_type": "execute_result"
    }
   ],
   "source": [
    "import pandas as pd\n",
    "\n",
    "# define the period for which we want a prediction\n",
    "future = list()\n",
    "for i in range(1, 13):\n",
    "    date = '1968-%02d' % i\n",
    "    future.append([date])\n",
    "future = pd.DataFrame(future)\n",
    "future.columns = ['ds']\n",
    "future['ds']= to_datetime(future['ds'])\n",
    "future"
   ]
  },
  {
   "cell_type": "code",
   "execution_count": 8,
   "id": "08947c89-3238-43fa-a954-5bb11e2a32cc",
   "metadata": {},
   "outputs": [
    {
     "name": "stdout",
     "output_type": "stream",
     "text": [
      "All columns of forecast dataframe:\n",
      "ds, trend, yhat_lower, yhat_upper, trend_lower, trend_upper, additive_terms, additive_terms_lower, additive_terms_upper, yearly, yearly_lower, yearly_upper, multiplicative_terms, multiplicative_terms_lower, multiplicative_terms_upper, yhat\n",
      "\n"
     ]
    },
    {
     "data": {
      "text/html": [
       "<div>\n",
       "<style scoped>\n",
       "    .dataframe tbody tr th:only-of-type {\n",
       "        vertical-align: middle;\n",
       "    }\n",
       "\n",
       "    .dataframe tbody tr th {\n",
       "        vertical-align: top;\n",
       "    }\n",
       "\n",
       "    .dataframe thead th {\n",
       "        text-align: right;\n",
       "    }\n",
       "</style>\n",
       "<table border=\"1\" class=\"dataframe\">\n",
       "  <thead>\n",
       "    <tr style=\"text-align: right;\">\n",
       "      <th></th>\n",
       "      <th>ds</th>\n",
       "      <th>yhat</th>\n",
       "      <th>yhat_lower</th>\n",
       "      <th>yhat_upper</th>\n",
       "    </tr>\n",
       "  </thead>\n",
       "  <tbody>\n",
       "    <tr>\n",
       "      <th>0</th>\n",
       "      <td>1968-01-01</td>\n",
       "      <td>14366.950441</td>\n",
       "      <td>12789.809556</td>\n",
       "      <td>15890.138186</td>\n",
       "    </tr>\n",
       "    <tr>\n",
       "      <th>1</th>\n",
       "      <td>1968-02-01</td>\n",
       "      <td>14931.417879</td>\n",
       "      <td>13390.176921</td>\n",
       "      <td>16501.231765</td>\n",
       "    </tr>\n",
       "    <tr>\n",
       "      <th>2</th>\n",
       "      <td>1968-03-01</td>\n",
       "      <td>20853.806412</td>\n",
       "      <td>19247.469447</td>\n",
       "      <td>22435.334836</td>\n",
       "    </tr>\n",
       "    <tr>\n",
       "      <th>3</th>\n",
       "      <td>1968-04-01</td>\n",
       "      <td>22896.047629</td>\n",
       "      <td>21348.371666</td>\n",
       "      <td>24489.235794</td>\n",
       "    </tr>\n",
       "    <tr>\n",
       "      <th>4</th>\n",
       "      <td>1968-05-01</td>\n",
       "      <td>24212.079305</td>\n",
       "      <td>22619.010642</td>\n",
       "      <td>25855.430430</td>\n",
       "    </tr>\n",
       "  </tbody>\n",
       "</table>\n",
       "</div>"
      ],
      "text/plain": [
       "          ds          yhat    yhat_lower    yhat_upper\n",
       "0 1968-01-01  14366.950441  12789.809556  15890.138186\n",
       "1 1968-02-01  14931.417879  13390.176921  16501.231765\n",
       "2 1968-03-01  20853.806412  19247.469447  22435.334836\n",
       "3 1968-04-01  22896.047629  21348.371666  24489.235794\n",
       "4 1968-05-01  24212.079305  22619.010642  25855.430430"
      ]
     },
     "execution_count": 8,
     "metadata": {},
     "output_type": "execute_result"
    }
   ],
   "source": [
    "forecast = model.predict(future) # dfrForecast\n",
    "\n",
    "p(\"All columns of forecast dataframe:\")\n",
    "p(\", \".join(list(forecast.columns)))\n",
    "p()\n",
    "\n",
    "# summarize the forecast\n",
    "forecast[['ds', 'yhat', 'yhat_lower', 'yhat_upper']].head()"
   ]
  },
  {
   "cell_type": "code",
   "execution_count": 9,
   "id": "42aec1bb-e914-4dbd-b10d-5790d787819f",
   "metadata": {},
   "outputs": [
    {
     "data": {
      "image/png": "[encoded data removed]",
      "text/plain": [
       "<Figure size 720x432 with 1 Axes>"
      ]
     },
     "metadata": {},
     "output_type": "display_data"
    }
   ],
   "source": [
    "# plot forecast\n",
    "model.plot(forecast)\n",
    "pyplot.show()"
   ]
  },
  {
   "cell_type": "markdown",
   "id": "591bea09-1daa-4a20-914c-8c53a552d5a4",
   "metadata": {},
   "source": [
    "__Conclusions__\n",
    "* This In-sample forecast predicts the prediction range __quite well__.\n",
    "* Data leakage:\n",
    "    * Out-of-Sample Forecasts for Real Use Cases: In practice, the primary purpose of time series forecasting is to make predictions about future __data points__ that the model has __not seen__ during training. \n",
    "    * Therefore, the __primary focus should be on out-of-sample forecasts__, where the model's true predictive ability is tested."
   ]
  },
  {
   "cell_type": "markdown",
   "id": "df0a7e3a-9b60-4650-b000-cc20fa13c4b4",
   "metadata": {},
   "source": [
    "### Out-of-sample forecast <a class=\"anchor\" id=\"CarDatasetOutOfSampleForecast\"></a>\n",
    "[TOC](#TOC)"
   ]
  },
  {
   "cell_type": "code",
   "execution_count": 10,
   "id": "0aac64e8-3000-4634-9957-e8f4bfc7c794",
   "metadata": {},
   "outputs": [
    {
     "name": "stderr",
     "output_type": "stream",
     "text": [
      "15:52:07 - cmdstanpy - INFO - Chain [1] start processing\n",
      "15:52:07 - cmdstanpy - INFO - Chain [1] done processing\n"
     ]
    },
    {
     "name": "stdout",
     "output_type": "stream",
     "text": [
      "          ds          yhat    yhat_lower    yhat_upper\n",
      "0 1969-01-01  15414.503433  13759.515190  16896.313700\n",
      "1 1969-02-01  16169.601828  14568.081364  17789.004125\n",
      "2 1969-03-01  21375.275888  19839.805712  22988.651918\n",
      "3 1969-04-01  23513.699386  21897.543435  25063.814817\n",
      "4 1969-05-01  25030.879738  23488.356079  26602.739373\n"
     ]
    },
    {
     "data": {
      "image/png": "[encoded data removed]",
      "text/plain": [
       "<Figure size 720x432 with 1 Axes>"
      ]
     },
     "metadata": {},
     "output_type": "display_data"
    }
   ],
   "source": [
    "# make an out-of-sample forecast\n",
    "from pandas import read_csv\n",
    "from pandas import to_datetime\n",
    "from pandas import DataFrame\n",
    "from prophet import Prophet\n",
    "from matplotlib import pyplot\n",
    "# load data\n",
    "path = 'https://raw.githubusercontent.com/jbrownlee/Datasets/master/monthly-car-sales.csv'\n",
    "df = read_csv(path, header=0)\n",
    "# prepare expected column names\n",
    "df.columns = ['ds', 'y']\n",
    "df['ds']= to_datetime(df['ds'])\n",
    "# define the model\n",
    "model = Prophet()\n",
    "# fit the model\n",
    "model.fit(df)\n",
    "# define the period for which we want a prediction\n",
    "future = list()\n",
    "for i in range(1, 13):\n",
    "\tdate = '1969-%02d' % i\n",
    "\tfuture.append([date])\n",
    "future = DataFrame(future)\n",
    "future.columns = ['ds']\n",
    "future['ds']= to_datetime(future['ds'])\n",
    "# use the model to make a forecast\n",
    "forecast = model.predict(future)\n",
    "# summarize the forecast\n",
    "print(forecast[['ds', 'yhat', 'yhat_lower', 'yhat_upper']].head())\n",
    "# plot forecast\n",
    "model.plot(forecast)\n",
    "pyplot.show()"
   ]
  },
  {
   "cell_type": "markdown",
   "id": "b6fe1650-128a-4b5a-97e0-a559003c5281",
   "metadata": {},
   "source": [
    "### Metric <a class=\"anchor\" id=\"CarDatasetMetric\"></a>\n",
    "[TOC](#TOC)"
   ]
  },
  {
   "cell_type": "code",
   "execution_count": 11,
   "id": "7595c1eb-5e5d-4e9d-a00e-d1b84e3f334d",
   "metadata": {},
   "outputs": [
    {
     "name": "stderr",
     "output_type": "stream",
     "text": [
      "15:52:08 - cmdstanpy - INFO - Chain [1] start processing\n"
     ]
    },
    {
     "name": "stdout",
     "output_type": "stream",
     "text": [
      "           ds      y\n",
      "91 1967-08-01  13434\n",
      "92 1967-09-01  13598\n",
      "93 1967-10-01  17187\n",
      "94 1967-11-01  16119\n",
      "95 1967-12-01  13713\n"
     ]
    },
    {
     "name": "stderr",
     "output_type": "stream",
     "text": [
      "15:52:09 - cmdstanpy - INFO - Chain [1] done processing\n"
     ]
    },
    {
     "name": "stdout",
     "output_type": "stream",
     "text": [
      "MAE: 1336.813\n"
     ]
    },
    {
     "data": {
      "image/png": "[encoded data removed]",
      "text/plain": [
       "<Figure size 432x288 with 1 Axes>"
      ]
     },
     "metadata": {
      "needs_background": "light"
     },
     "output_type": "display_data"
    }
   ],
   "source": [
    "# evaluate prophet time series forecasting model on hold out dataset\n",
    "from pandas import read_csv\n",
    "from pandas import to_datetime\n",
    "from pandas import DataFrame\n",
    "from prophet import Prophet\n",
    "from sklearn.metrics import mean_absolute_error\n",
    "from matplotlib import pyplot\n",
    "# load data\n",
    "path = 'https://raw.githubusercontent.com/jbrownlee/Datasets/master/monthly-car-sales.csv'\n",
    "df = read_csv(path, header=0)\n",
    "# prepare expected column names\n",
    "df.columns = ['ds', 'y']\n",
    "df['ds']= to_datetime(df['ds'])\n",
    "# create test dataset, remove last 12 months\n",
    "train = df.drop(df.index[-12:])\n",
    "print(train.tail())\n",
    "# define the model\n",
    "model = Prophet()\n",
    "# fit the model\n",
    "model.fit(train)\n",
    "# define the period for which we want a prediction\n",
    "future = list()\n",
    "for i in range(1, 13):\n",
    "\tdate = '1968-%02d' % i\n",
    "\tfuture.append([date])\n",
    "future = DataFrame(future)\n",
    "future.columns = ['ds']\n",
    "future['ds'] = to_datetime(future['ds'])\n",
    "# use the model to make a forecast\n",
    "forecast = model.predict(future)\n",
    "# calculate MAE between expected and predicted values for december\n",
    "y_true = df['y'][-12:].values\n",
    "y_pred = forecast['yhat'].values\n",
    "mae = mean_absolute_error(y_true, y_pred)\n",
    "print('MAE: %.3f' % mae)\n",
    "# plot expected vs actual\n",
    "pyplot.plot(y_true, label='Actual')\n",
    "pyplot.plot(y_pred, label='Predicted')\n",
    "pyplot.legend()\n",
    "pyplot.show()"
   ]
  },
  {
   "cell_type": "markdown",
   "id": "62885c00-2716-4ddc-9fff-aa7679dfa6e0",
   "metadata": {},
   "source": [
    "__Conclusions__\n",
    "* Prophet detects the seasonal behavior easily:\n",
    "    * Two yearly peaks (April and September) are nicely detected.\n",
    "    * Also the height of the peaks is estimated properly."
   ]
  },
  {
   "cell_type": "markdown",
   "id": "84d385e5-8c48-40b4-ac9e-d233ceb415cd",
   "metadata": {},
   "source": [
    "## Microsoft dataset <a class=\"anchor\" id=\"MicrosoftDataset\"></a>\n",
    "[TOC](#TOC)   "
   ]
  },
  {
   "cell_type": "markdown",
   "id": "761d4873-411a-445f-b207-c7e1aec4ec91",
   "metadata": {},
   "source": [
    "### Parametrized Prophet function <a class=\"anchor\" id=\"CarDatasetParametrizedProphetFunction\"></a>\n",
    "[TOC](#TOC)   "
   ]
  },
  {
   "cell_type": "code",
   "execution_count": 47,
   "id": "92306103-7a38-4155-b0ab-509ce657b868",
   "metadata": {},
   "outputs": [],
   "source": [
    "from pandas import read_csv\n",
    "from pandas import to_datetime\n",
    "from pandas import DataFrame\n",
    "from prophet import Prophet\n",
    "from sklearn.metrics import mean_absolute_error\n",
    "from matplotlib import pyplot as plt\n",
    "from datetime import datetime, timedelta\n",
    "\n",
    "def ParametrizedProphet(dfrSource, strTestStartDate, blnVerbose=False):\n",
    "    '''\n",
    "    This function wraps the standard Facebook/Meta Prophet function.\n",
    "    \n",
    "    Inspiration: https://machinelearningmastery.com/time-series-forecasting-with-prophet-in-python/\n",
    "    \n",
    "    When       Who What\n",
    "    2023 09 26 dh  Created\n",
    "    '''\n",
    "    \n",
    "    # show-stoppers\n",
    "    if not isinstance(dfrSource, pd.DataFrame):\n",
    "        raise ValueError(f\"Error in ParametrizedProphet(): dfrSource is not a DataFrame.\")\n",
    "    if len(dfrSource.columns) != 2:\n",
    "        raise ValueError(f\"Error in ParametrizedProphet(): dfrSource has {len(dfrSource.columns)} rather than 2 columns.\")\n",
    "    intTestStartDateLength =len(strTestStartDate) \n",
    "    if   intTestStartDateLength ==  4: strTimeSteps = \"years\"\n",
    "    elif intTestStartDateLength ==  7: strTimeSteps = \"months\"\n",
    "    elif intTestStartDateLength == 10: strTimeSteps = \"days\"\n",
    "    else:\n",
    "        raise ValueError(f\"Error in ParametrizedProphet(): strTestStartDate \")\n",
    "\n",
    "    # Prophet-specific constants\n",
    "    cstrDateStampAbbreviation = \"ds\"\n",
    "    cstrFunctionValueAbbreviation = \"y\"\n",
    "    \n",
    "    # prepare expected column names\n",
    "    dfrSource.columns = [cstrDateStampAbbreviation, cstrFunctionValueAbbreviation]\n",
    "    dfrSource[cstrDateStampAbbreviation]= to_datetime(dfrSource[cstrDateStampAbbreviation])\n",
    "    \n",
    "    # make sure the data is sorted\n",
    "    dfrSource.sort_values(by=cstrDateStampAbbreviation, inplace=True, ascending=True)\n",
    "    \n",
    "    # define the period for which we want a prediction\n",
    "    lstrFutureDates = list()\n",
    "    if strTimeSteps in [\"years\",\"months\",\"days\"]:\n",
    "        intCurrYear  = int(strTestStartDate[0:4])\n",
    "        intLastYear = dfrSource.iloc[-1][cstrDateStampAbbreviation].year\n",
    "    if strTimeSteps in [\"months\",\"days\"]:\n",
    "        intCurrMonth = int(strTestStartDate[5:7])\n",
    "        intLastMonth = dfrSource.iloc[-1][cstrDateStampAbbreviation].month\n",
    "    if strTimeSteps in [\"days\"]:\n",
    "        intCurrDay = int(strTestStartDate[8:10])\n",
    "        intLastDay = dfrSource.iloc[-1][cstrDateStampAbbreviation].day # dh 2023-09-27: bug fix (before: month!)\n",
    "    \n",
    "    if strTimeSteps == \"years\": # yearly ----------------------------------\n",
    "        while (intCurrYear) <= (intLastYear):\n",
    "            strDate = f\"{intCurrYear:04d}\"\n",
    "            lstrFutureDates.append(strDate)\n",
    "            intCurrYear += 1\n",
    "            \n",
    "    elif strTimeSteps == \"months\": # monthly ----------------------------------\n",
    "        while (intCurrYear, intCurrMonth) <= (intLastYear, intLastMonth):\n",
    "            strDate = f\"{intCurrYear:04d}-{intCurrMonth:02d}\"\n",
    "            lstrFutureDates.append(strDate)\n",
    "\n",
    "            # increment to the next month\n",
    "            if intCurrMonth == 12:\n",
    "                intCurrYear += 1\n",
    "                intCurrMonth = 1\n",
    "            else:\n",
    "                intCurrMonth += 1\n",
    "                \n",
    "    elif strTimeSteps == \"days\": # daily ----------------------------------\n",
    "    \n",
    "        while (intCurrYear, intCurrMonth, intCurrDay) <= (intLastYear, intLastMonth, intLastDay):\n",
    "            strDate = f\"{intCurrYear:04d}-{intCurrMonth:02d}-{intCurrDay:02d}\"\n",
    "            lstrFutureDates.append(strDate)\n",
    "\n",
    "            # increment to next day\n",
    "            datCurrDate = datetime.strptime(strDate, '%Y-%m-%d')\n",
    "            datNextDate = datCurrDate + timedelta(days=1)\n",
    "            intCurrYear = datNextDate.year\n",
    "            intCurrMonth = datNextDate.month\n",
    "            intCurrDay = datNextDate.day     \n",
    "\n",
    "    intTestLength = len(lstrFutureDates)  \n",
    "    dfrTestDates = DataFrame(lstrFutureDates)\n",
    "    dfrTestDates.columns = [cstrDateStampAbbreviation]\n",
    "    dfrTestDates[cstrDateStampAbbreviation] = to_datetime(dfrTestDates[cstrDateStampAbbreviation])\n",
    "    a1datTestDates = dfrTestDates[cstrDateStampAbbreviation].values    \n",
    "    \n",
    "    # create train dataset, remove test dataset\n",
    "    dfrTrain = dfrSource.drop(dfrSource.index[-intTestLength:])\n",
    "    \n",
    "    if False:\n",
    "        p(\"-----------------------------------------------------------------------------BEGIN\")\n",
    "        t(intTestLength)\n",
    "        p(strTimeSteps)\n",
    "        u.ShortDataFrameDisplay(dfrSource)\n",
    "        u.ShortDataFrameDisplay(dfrTrain)\n",
    "        u.ShortDataFrameDisplay(dfrTestDates) \n",
    "        p(\"-----------------------------------------------------------------------------END\")\n",
    "\n",
    "    # fit model\n",
    "    objProphet = Prophet()\n",
    "    objProphet.fit(dfrTrain)\n",
    "    \n",
    "    # warnings\n",
    "    p(\"(If this text is preceded by two pink lines: just ignore them.)\")   \n",
    "    p()\n",
    "\n",
    "    # forecast\n",
    "    dfrForecast = objProphet.predict(dfrTestDates)\n",
    "\n",
    "    # MAE (mean absolute error)\n",
    "    y_true = dfrSource[cstrFunctionValueAbbreviation][-intTestLength:].values # a1fltYTrue\n",
    "    y_pred = dfrForecast['yhat'].values                                       # a1fltYPredicted\n",
    "    fltMAE = mean_absolute_error(y_true, y_pred)    \n",
    "\n",
    "    # plot expected vs actual\n",
    "    plt.plot(a1datTestDates,y_true, label='True',color=\"green\")\n",
    "    plt.plot(a1datTestDates,y_pred, label='Predicted',color=\"orange\")\n",
    "    plt.legend()\n",
    "    plt.title(f'MAE = {round(fltMAE,3)}')\n",
    "    plt.xticks(rotation='vertical')\n",
    "    plt.show()\n",
    "\n",
    "if False:    \n",
    "    # test on demo data\n",
    "    strSourcePath = 'https://raw.githubusercontent.com/jbrownlee/Datasets/master/monthly-car-sales.csv'\n",
    "    dfrCarDataSet = read_csv(strSourcePath, header=0)\n",
    "    ### u.ShortDataFrameDisplay(dfrCarDataSet)\n",
    "    ParametrizedProphet(dfrCarDataSet,strTestStartDate=\"1968-01\",blnVerbose=False)    "
   ]
  },
  {
   "cell_type": "code",
   "execution_count": 48,
   "id": "e07b9ae2-2ad5-4cc4-9bf5-937e212e89a7",
   "metadata": {},
   "outputs": [
    {
     "name": "stdout",
     "output_type": "stream",
     "text": [
      "DataFrame 'dfrMicrosoft':\n"
     ]
    },
    {
     "data": {
      "text/html": [
       "<div>\n",
       "<style scoped>\n",
       "    .dataframe tbody tr th:only-of-type {\n",
       "        vertical-align: middle;\n",
       "    }\n",
       "\n",
       "    .dataframe tbody tr th {\n",
       "        vertical-align: top;\n",
       "    }\n",
       "\n",
       "    .dataframe thead th {\n",
       "        text-align: right;\n",
       "    }\n",
       "</style>\n",
       "<table border=\"1\" class=\"dataframe\">\n",
       "  <thead>\n",
       "    <tr style=\"text-align: right;\">\n",
       "      <th></th>\n",
       "      <th>Date</th>\n",
       "      <th>Price</th>\n",
       "    </tr>\n",
       "  </thead>\n",
       "  <tbody>\n",
       "    <tr>\n",
       "      <th>0</th>\n",
       "      <td>2020-01-01</td>\n",
       "      <td>153.010615</td>\n",
       "    </tr>\n",
       "    <tr>\n",
       "      <th>1</th>\n",
       "      <td>2020-01-02</td>\n",
       "      <td>154.205344</td>\n",
       "    </tr>\n",
       "    <tr>\n",
       "      <th>...</th>\n",
       "      <td>...</td>\n",
       "      <td>...</td>\n",
       "    </tr>\n",
       "    <tr>\n",
       "      <th>1343</th>\n",
       "      <td>2023-09-05</td>\n",
       "      <td>331.274994</td>\n",
       "    </tr>\n",
       "    <tr>\n",
       "      <th>1344</th>\n",
       "      <td>2023-09-06</td>\n",
       "      <td>333.130005</td>\n",
       "    </tr>\n",
       "  </tbody>\n",
       "</table>\n",
       "<p>1345 rows × 2 columns</p>\n",
       "</div>"
      ],
      "text/plain": [
       "           Date       Price\n",
       "0    2020-01-01  153.010615\n",
       "1    2020-01-02  154.205344\n",
       "...         ...         ...\n",
       "1343 2023-09-05  331.274994\n",
       "1344 2023-09-06  333.130005\n",
       "\n",
       "[1345 rows x 2 columns]"
      ]
     },
     "metadata": {},
     "output_type": "display_data"
    },
    {
     "name": "stderr",
     "output_type": "stream",
     "text": [
      "17:40:30 - cmdstanpy - INFO - Chain [1] start processing\n"
     ]
    },
    {
     "name": "stdout",
     "output_type": "stream",
     "text": [
      "FORECAST PERIOD: 1 1 WEEK\n"
     ]
    },
    {
     "name": "stderr",
     "output_type": "stream",
     "text": [
      "17:40:30 - cmdstanpy - INFO - Chain [1] done processing\n"
     ]
    },
    {
     "name": "stdout",
     "output_type": "stream",
     "text": [
      "(If this text is preceded by two pink lines: just ignore them.)\n",
      "\n"
     ]
    },
    {
     "data": {
      "image/png": "[encoded data removed]",
      "text/plain": [
       "<Figure size 432x288 with 1 Axes>"
      ]
     },
     "metadata": {
      "needs_background": "light"
     },
     "output_type": "display_data"
    },
    {
     "name": "stdout",
     "output_type": "stream",
     "text": [
      "FORECAST PERIOD: 1 1 MONTH\n"
     ]
    },
    {
     "name": "stderr",
     "output_type": "stream",
     "text": [
      "17:40:31 - cmdstanpy - INFO - Chain [1] start processing\n",
      "17:40:31 - cmdstanpy - INFO - Chain [1] done processing\n"
     ]
    },
    {
     "name": "stdout",
     "output_type": "stream",
     "text": [
      "(If this text is preceded by two pink lines: just ignore them.)\n",
      "\n"
     ]
    },
    {
     "data": {
      "image/png": "[encoded data removed]",
      "text/plain": [
       "<Figure size 432x288 with 1 Axes>"
      ]
     },
     "metadata": {
      "needs_background": "light"
     },
     "output_type": "display_data"
    },
    {
     "name": "stderr",
     "output_type": "stream",
     "text": [
      "17:40:32 - cmdstanpy - INFO - Chain [1] start processing\n"
     ]
    },
    {
     "name": "stdout",
     "output_type": "stream",
     "text": [
      "FORECAST PERIOD: 1 1 YEAR\n"
     ]
    },
    {
     "name": "stderr",
     "output_type": "stream",
     "text": [
      "17:40:32 - cmdstanpy - INFO - Chain [1] done processing\n"
     ]
    },
    {
     "name": "stdout",
     "output_type": "stream",
     "text": [
      "(If this text is preceded by two pink lines: just ignore them.)\n",
      "\n"
     ]
    },
    {
     "data": {
      "image/png": "[encoded data removed]",
      "text/plain": [
       "<Figure size 432x288 with 1 Axes>"
      ]
     },
     "metadata": {
      "needs_background": "light"
     },
     "output_type": "display_data"
    },
    {
     "name": "stderr",
     "output_type": "stream",
     "text": [
      "17:40:32 - cmdstanpy - INFO - Chain [1] start processing\n"
     ]
    },
    {
     "name": "stdout",
     "output_type": "stream",
     "text": [
      "FORECAST PERIOD: 1 2 YEARS\n"
     ]
    },
    {
     "name": "stderr",
     "output_type": "stream",
     "text": [
      "17:40:32 - cmdstanpy - INFO - Chain [1] done processing\n"
     ]
    },
    {
     "name": "stdout",
     "output_type": "stream",
     "text": [
      "(If this text is preceded by two pink lines: just ignore them.)\n",
      "\n"
     ]
    },
    {
     "data": {
      "image/png": "[encoded data removed]",
      "text/plain": [
       "<Figure size 432x288 with 1 Axes>"
      ]
     },
     "metadata": {
      "needs_background": "light"
     },
     "output_type": "display_data"
    }
   ],
   "source": [
    "import pickle\n",
    "import pandas as pd\n",
    "\n",
    "# load Microsoft data\n",
    "strFilename = f\"../data/processed/dfrPredictionL2.p\"\n",
    "with open(strFilename, 'rb') as objBufferedWriter: # rb = read in binary mode\n",
    "    dfrMicrosoft = pickle.load(objBufferedWriter)\n",
    "dfrMicrosoft = dfrMicrosoft[[\"Date\",\"Price\"]]\n",
    "u.ShortDataFrameDisplay(dfrMicrosoft)\n",
    "\n",
    "# run Prophet forecasts\n",
    "dstrForecastPeriods = {\"1 week\":\"2023-08-31\",\"1 month\":\"2023-08-09\",\"1 year\":\"2022-09-09\",\"2 years\":\"2021-09-09\"}\n",
    "\n",
    "for strPeriod, strStartDate in dstrForecastPeriods.items():\n",
    "    p(f\"Forecast period: 1 {strPeriod}\".upper())\n",
    "    ParametrizedProphet(dfrMicrosoft,strTestStartDate=strStartDate,blnVerbose=False)    "
   ]
  },
  {
   "cell_type": "markdown",
   "id": "7ed17814-5d8f-4675-9c24-a57854076a6b",
   "metadata": {},
   "source": [
    "__Conclusions__\n",
    "* Microsoft stock market prices seem to be difficult to forecast.\n",
    "* The patterns of the forecasts vary a lot.\n",
    "* Differently from ARIMA Prophet does not seem to focus on the last values of the training period."
   ]
  }
 ],
 "metadata": {
  "kernelspec": {
   "display_name": "Python 3 (ipykernel)",
   "language": "python",
   "name": "python3"
  },
  "language_info": {
   "codemirror_mode": {
    "name": "ipython",
    "version": 3
   },
   "file_extension": ".py",
   "mimetype": "text/x-python",
   "name": "python",
   "nbconvert_exporter": "python",
   "pygments_lexer": "ipython3",
   "version": "3.9.10"
  }
 },
 "nbformat": 4,
 "nbformat_minor": 5
}
