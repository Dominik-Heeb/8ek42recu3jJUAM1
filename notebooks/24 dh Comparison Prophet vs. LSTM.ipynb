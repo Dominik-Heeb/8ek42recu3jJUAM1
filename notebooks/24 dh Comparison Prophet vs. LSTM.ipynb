{
 "cells": [
  {
   "cell_type": "markdown",
   "id": "f08414be-1421-4d8d-81f8-ac78dfddca47",
   "metadata": {},
   "source": [
    "# Comparison Prophet vs. LSTM\n",
    "\n",
    "Apziva project #5<br>\n",
    "2023 09 04\n",
    "\n",
    "__Summary:__\n",
    "* This notebook compares Python and LSTM for time series forecasts.\n",
    "* Various sources, and own experience."
   ]
  },
  {
   "cell_type": "markdown",
   "id": "3e0d4d1d-1e63-497f-b297-93a1377c7a57",
   "metadata": {},
   "source": [
    "| Feature | Prophet | LSTM |\n",
    "|----------|----------|----------|\n",
    "|__General__|Developed by __Facebook__'s Core Data Science team|__Long Short-Term Memory__|\n",
    "| __Model Type__ | Prophet is a forecasting model. It is designed to handle time series data with __strong seasonal patterns__ and multiple seasonal components. Prophet is based on an additive model that decomposes time series data into trend, seasonal, and holiday components. | LSTM is a type of __recurrent neural network (RNN)__ that is capable of learning __long-term dependencies__ in time series data. It is a deep learning model and is part of the broader field of artificial neural networks. |\n",
    "| __Ease of Use__ | Prophet is known for its __ease of use__ and requires minimal data preprocessing. It can handle missing data and outliers relatively well. Users can easily specify custom seasonal patterns and holidays. | LSTM is __more complex__ to implement and often __requires more data preprocessing__ and feature engineering. It may also require tuning hyperparameters like the number of layers, hidden units, and sequence length. |\n",
    "| __Seasonality Handling__ | Prophet has built-in support for __handling multiple seasonal components__, such as yearly, weekly, and daily seasonality. It can also model holidays and special events. | LSTM can capture seasonality and temporal patterns in data, but it may __require more manual feature engineering__ to handle specific seasonal components. |\n",
    "| __Interpretability__ | Prophet provides __interpretable components for trend, seasonality, and holiday effects__, making it easier to understand the underlying patterns in the data. | LSTM models are typically more complex and __less interpretable__ than Prophet models, making it harder to extract meaningful insights from them. |\n",
    "| __Training Time__ | Training Prophet models is usually __faster__ and requires less computational resources compared to training deep learning models like LSTM. | LSTM models can be __computationally intensive__ to train, especially if you have a large dataset or complex architectures. |\n",
    "| __Performance__ | Prophet is often a good choice for time series with __strong seasonal patterns__. | LSTM may be __more suitable for complex, non-linear__ time series data. |"
   ]
  },
  {
   "cell_type": "markdown",
   "id": "727dc0f2-47a6-4a77-812b-30bb4e8486e3",
   "metadata": {},
   "source": [
    "__Summary__\n",
    "* The choice between Prophet and LSTM for time series forecasting in Python depends on the __nature of the data__, and your specific __forecasting goals__:\n",
    "    * __Prophet__ \n",
    "        * is a good choice for users who want a __user-friendly, out-of-the-box solution__ for time series forecasting.\n",
    "    * __LSTM__ \n",
    "        * offers __more flexibility__ and can be more powerful for capturing complex patterns in the data, but may require __more effort__ in terms of implementation and tuning."
   ]
  }
 ],
 "metadata": {
  "kernelspec": {
   "display_name": "Python 3 (ipykernel)",
   "language": "python",
   "name": "python3"
  },
  "language_info": {
   "codemirror_mode": {
    "name": "ipython",
    "version": 3
   },
   "file_extension": ".py",
   "mimetype": "text/x-python",
   "name": "python",
   "nbconvert_exporter": "python",
   "pygments_lexer": "ipython3",
   "version": "3.9.10"
  }
 },
 "nbformat": 4,
 "nbformat_minor": 5
}
